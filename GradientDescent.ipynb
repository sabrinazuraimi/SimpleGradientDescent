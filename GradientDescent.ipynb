{
 "cells": [
  {
   "cell_type": "code",
   "execution_count": 43,
   "metadata": {},
   "outputs": [],
   "source": [
    "import pandas as pd\n",
    "import numpy as np\n",
    "import matplotlib.pyplot as plt"
   ]
  },
  {
   "cell_type": "code",
   "execution_count": 44,
   "metadata": {},
   "outputs": [],
   "source": [
    "df = pd.read_csv('student-mat.csv',sep=';')\n"
   ]
  },
  {
   "cell_type": "markdown",
   "metadata": {},
   "source": [
    "Delete rows where student's final grade is zero."
   ]
  },
  {
   "cell_type": "code",
   "execution_count": 45,
   "metadata": {},
   "outputs": [],
   "source": [
    "df = df[df.G3 != 0]"
   ]
  },
  {
   "cell_type": "code",
   "execution_count": 46,
   "metadata": {},
   "outputs": [],
   "source": [
    "#save name of features\n",
    "feature_list = list(df.columns)\n",
    "\n",
    "features = np.array(df)\n",
    "\n",
    "#value to predict\n",
    "finalmarks = np.array(df['G3'])\n",
    "\n",
    "#variables\n",
    "firstmark = np.array(df['G1'])\n",
    "secondmark = np.array(df['G2'])\n",
    "\n",
    "#Calculate average mark\n",
    "average = (np.array(firstmark)+ np.array(secondmark))/2\n"
   ]
  },
  {
   "cell_type": "code",
   "execution_count": 47,
   "metadata": {},
   "outputs": [],
   "source": [
    "#Split data into training and test sets\n",
    "from sklearn.model_selection import train_test_split\n",
    "train_features,test_features,train_labels,test_labels = train_test_split(average,finalmarks,test_size = 0.3,random_state = 40)\n",
    "\n"
   ]
  },
  {
   "cell_type": "markdown",
   "metadata": {},
   "source": [
    "Check the correlation between average previous grades and final marks"
   ]
  },
  {
   "cell_type": "code",
   "execution_count": 48,
   "metadata": {},
   "outputs": [
    {
     "name": "stdout",
     "output_type": "stream",
     "text": [
      "[[1.        0.9517762]\n",
      " [0.9517762 1.       ]]\n"
     ]
    }
   ],
   "source": [
    "#correlation between \n",
    "crelation = np.corrcoef(average,finalmarks)\n"
   ]
  },
  {
   "cell_type": "markdown",
   "metadata": {},
   "source": [
    "Implementation of gradient descent algorithm\n",
    "\n",
    "A hypothesis is used to estimate Y based on X and this is represented as \n",
    "\n",
    "$h_\\theta(x) = \\theta^Tx $\n",
    "\n",
    "To make the hypothesis h(x) close to y as possible, the cost function also has to be considered. The cost function is as follows\n",
    "\n",
    "$J(\\theta)=\\frac{1}{2}\\sum_{i=1}^{m} ((h_\\theta(x^{(i)})-y^{(i)}))^2$\n",
    "\n",
    "The gradient is then computed using the equation below\n",
    "\n",
    "$\\triangledown=\\frac{1}{m}\\sum_{i=1}^{m} (h_\\theta(x^{(i)})-y^{(i)})x^{(i)}$\n",
    "\n",
    "The new parameter theta is updated using the learning rate and the gradient\n",
    "\n",
    "$\\theta_1 = \\theta_0-\\alpha\\frac{1}{m}\\sum_{i=1}^{m} (h_\\theta(x^{(i)})-y^{(i)})x^{(i)}$"
   ]
  },
  {
   "cell_type": "code",
   "execution_count": 49,
   "metadata": {},
   "outputs": [],
   "source": [
    "def gradientDescent(x,y,theta,learningrate,m,numIterations):\n",
    "    for i in range(0,numIterations):\n",
    "        hypo = np.dot(x,theta)\n",
    "        cost = np.sum((hypo-y)**2)/(m)\n",
    "        gradient = np.dot(x,(hypo-y))/m\n",
    "        theta = theta - learningrate*gradient\n",
    "    return theta"
   ]
  },
  {
   "cell_type": "code",
   "execution_count": 50,
   "metadata": {},
   "outputs": [],
   "source": [
    "m= np.shape(train_features)\n",
    "n = np.shape(train_features)"
   ]
  },
  {
   "cell_type": "code",
   "execution_count": 51,
   "metadata": {},
   "outputs": [],
   "source": [
    "theta = np.ones(n)\n",
    "alpha = 0.00000000009\n",
    "numIterations = 99"
   ]
  },
  {
   "cell_type": "code",
   "execution_count": 52,
   "metadata": {},
   "outputs": [
    {
     "name": "stdout",
     "output_type": "stream",
     "text": [
      "[0.9997133 0.9997133 0.9997133 0.9997133 0.9997133 0.9997133 0.9997133\n",
      " 0.9997133 0.9997133 0.9997133 0.9997133 0.9997133 0.9997133 0.9997133\n",
      " 0.9997133 0.9997133 0.9997133 0.9997133 0.9997133 0.9997133 0.9997133\n",
      " 0.9997133 0.9997133 0.9997133 0.9997133 0.9997133 0.9997133 0.9997133\n",
      " 0.9997133 0.9997133 0.9997133 0.9997133 0.9997133 0.9997133 0.9997133\n",
      " 0.9997133 0.9997133 0.9997133 0.9997133 0.9997133 0.9997133 0.9997133\n",
      " 0.9997133 0.9997133 0.9997133 0.9997133 0.9997133 0.9997133 0.9997133\n",
      " 0.9997133 0.9997133 0.9997133 0.9997133 0.9997133 0.9997133 0.9997133\n",
      " 0.9997133 0.9997133 0.9997133 0.9997133 0.9997133 0.9997133 0.9997133\n",
      " 0.9997133 0.9997133 0.9997133 0.9997133 0.9997133 0.9997133 0.9997133\n",
      " 0.9997133 0.9997133 0.9997133 0.9997133 0.9997133 0.9997133 0.9997133\n",
      " 0.9997133 0.9997133 0.9997133 0.9997133 0.9997133 0.9997133 0.9997133\n",
      " 0.9997133 0.9997133 0.9997133 0.9997133 0.9997133 0.9997133 0.9997133\n",
      " 0.9997133 0.9997133 0.9997133 0.9997133 0.9997133 0.9997133 0.9997133\n",
      " 0.9997133 0.9997133 0.9997133 0.9997133 0.9997133 0.9997133 0.9997133\n",
      " 0.9997133 0.9997133 0.9997133 0.9997133 0.9997133 0.9997133 0.9997133\n",
      " 0.9997133 0.9997133 0.9997133 0.9997133 0.9997133 0.9997133 0.9997133\n",
      " 0.9997133 0.9997133 0.9997133 0.9997133 0.9997133 0.9997133 0.9997133\n",
      " 0.9997133 0.9997133 0.9997133 0.9997133 0.9997133 0.9997133 0.9997133\n",
      " 0.9997133 0.9997133 0.9997133 0.9997133 0.9997133 0.9997133 0.9997133\n",
      " 0.9997133 0.9997133 0.9997133 0.9997133 0.9997133 0.9997133 0.9997133\n",
      " 0.9997133 0.9997133 0.9997133 0.9997133 0.9997133 0.9997133 0.9997133\n",
      " 0.9997133 0.9997133 0.9997133 0.9997133 0.9997133 0.9997133 0.9997133\n",
      " 0.9997133 0.9997133 0.9997133 0.9997133 0.9997133 0.9997133 0.9997133\n",
      " 0.9997133 0.9997133 0.9997133 0.9997133 0.9997133 0.9997133 0.9997133\n",
      " 0.9997133 0.9997133 0.9997133 0.9997133 0.9997133 0.9997133 0.9997133\n",
      " 0.9997133 0.9997133 0.9997133 0.9997133 0.9997133 0.9997133 0.9997133\n",
      " 0.9997133 0.9997133 0.9997133 0.9997133 0.9997133 0.9997133 0.9997133\n",
      " 0.9997133 0.9997133 0.9997133 0.9997133 0.9997133 0.9997133 0.9997133\n",
      " 0.9997133 0.9997133 0.9997133 0.9997133 0.9997133 0.9997133 0.9997133\n",
      " 0.9997133 0.9997133 0.9997133 0.9997133 0.9997133 0.9997133 0.9997133\n",
      " 0.9997133 0.9997133 0.9997133 0.9997133 0.9997133 0.9997133 0.9997133\n",
      " 0.9997133 0.9997133 0.9997133 0.9997133 0.9997133 0.9997133 0.9997133\n",
      " 0.9997133 0.9997133 0.9997133 0.9997133 0.9997133 0.9997133 0.9997133\n",
      " 0.9997133 0.9997133 0.9997133 0.9997133 0.9997133 0.9997133 0.9997133\n",
      " 0.9997133 0.9997133 0.9997133 0.9997133]\n"
     ]
    }
   ],
   "source": [
    "theta = gradientDescent(train_features,train_labels,theta,alpha,m,numIterations)\n"
   ]
  },
  {
   "cell_type": "code",
   "execution_count": 53,
   "metadata": {},
   "outputs": [
    {
     "data": {
      "image/png": "[encoded data removed]",
      "text/plain": [
       "<matplotlib.figure.Figure at 0x1a1d9c1550>"
      ]
     },
     "metadata": {},
     "output_type": "display_data"
    }
   ],
   "source": [
    "def plotModel(x,y,w):\n",
    "    plt.plot(x,y,\"x\")\n",
    "    plt.plot(x,x*w,\"r--\")\n",
    "    plt.show()\n",
    "\n",
    "plotModel(train_features,train_labels,theta)"
   ]
  },
  {
   "cell_type": "code",
   "execution_count": 63,
   "metadata": {},
   "outputs": [
    {
     "data": {
      "text/plain": [
       "<matplotlib.collections.PathCollection at 0x1a1e461b00>"
      ]
     },
     "execution_count": 63,
     "metadata": {},
     "output_type": "execute_result"
    },
    {
     "data": {
      "image/png": "[encoded data removed]",
      "text/plain": [
       "<matplotlib.figure.Figure at 0x1a1e2a0ba8>"
      ]
     },
     "metadata": {},
     "output_type": "display_data"
    }
   ],
   "source": [
    "plt.plot(test_features,test_features*0.9997133)\n",
    "plt.scatter(test_features,test_labels)"
   ]
  },
  {
   "cell_type": "code",
   "execution_count": null,
   "metadata": {},
   "outputs": [],
   "source": []
  }
 ],
 "metadata": {
  "kernelspec": {
   "display_name": "Python 3",
   "language": "python",
   "name": "python3"
  },
  "language_info": {
   "codemirror_mode": {
    "name": "ipython",
    "version": 3
   },
   "file_extension": ".py",
   "mimetype": "text/x-python",
   "name": "python",
   "nbconvert_exporter": "python",
   "pygments_lexer": "ipython3",
   "version": "3.6.4"
  }
 },
 "nbformat": 4,
 "nbformat_minor": 2
}
